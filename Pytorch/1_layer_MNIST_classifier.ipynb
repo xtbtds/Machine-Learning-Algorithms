{
  "nbformat": 4,
  "nbformat_minor": 0,
  "metadata": {
    "colab": {
      "name": "1 layer MNIST classifier",
      "provenance": [],
      "collapsed_sections": []
    },
    "kernelspec": {
      "name": "python3",
      "display_name": "Python 3"
    },
    "language_info": {
      "name": "python"
    }
  },
  "cells": [
    {
      "cell_type": "code",
      "execution_count": 4,
      "metadata": {
        "id": "o2C78X2kO6L2"
      },
      "outputs": [],
      "source": [
        "import torch\n",
        "from torch.utils.data import DataLoader\n",
        "from torchvision.datasets import MNIST\n",
        "import torchvision.transforms as tt\n",
        "\n",
        "device = torch.device('cuda:0') if torch.cuda.is_available else torch.device('cpu')  "
      ]
    },
    {
      "cell_type": "code",
      "source": [
        "#preparing data\n",
        "data_tt = tt.Compose([\n",
        "  tt.transforms.ToTensor(),\n",
        "  tt.transforms.Normalize((0.5), (0.5))\n",
        "])\n",
        "root = './'\n",
        "train = MNIST(root, train=True,  transform=data_tt, download=True)\n",
        "test  = MNIST(root, train=False, transform=data_tt, download=True)\n",
        "\n",
        "batch_size = 128\n",
        "\n",
        "train_loader = DataLoader(train, batch_size=batch_size, drop_last=True)\n",
        "test_loader = DataLoader(test, batch_size=batch_size, drop_last=True)"
      ],
      "metadata": {
        "id": "ZzcfRhWeRy32"
      },
      "execution_count": 116,
      "outputs": []
    },
    {
      "cell_type": "code",
      "source": [
        "x, y = next(iter(train_loader))\n",
        "x.shape, y.shape"
      ],
      "metadata": {
        "colab": {
          "base_uri": "https://localhost:8080/"
        },
        "id": "emfkRojQSwXZ",
        "outputId": "ed9a1ce0-3beb-4601-cab0-271898452acd"
      },
      "execution_count": 117,
      "outputs": [
        {
          "output_type": "execute_result",
          "data": {
            "text/plain": [
              "(torch.Size([128, 1, 28, 28]), torch.Size([128]))"
            ]
          },
          "metadata": {},
          "execution_count": 117
        }
      ]
    },
    {
      "cell_type": "code",
      "source": [
        "w = torch.FloatTensor(28*28, 10).uniform_(-1, 1)/28   #initialize weights with uniform distribution from -1 to 1\n",
        "w.requires_grad_()    #for autograd"
      ],
      "metadata": {
        "colab": {
          "base_uri": "https://localhost:8080/"
        },
        "id": "w2Uf6B5tSxlu",
        "outputId": "a94661cf-bde5-43fb-b8c2-198631f870d5"
      },
      "execution_count": 132,
      "outputs": [
        {
          "output_type": "execute_result",
          "data": {
            "text/plain": [
              "tensor([[-0.0063,  0.0312, -0.0013,  ...,  0.0115, -0.0313,  0.0291],\n",
              "        [-0.0100, -0.0279, -0.0206,  ..., -0.0009,  0.0015,  0.0115],\n",
              "        [ 0.0079, -0.0102, -0.0147,  ...,  0.0307,  0.0009,  0.0254],\n",
              "        ...,\n",
              "        [ 0.0106,  0.0187, -0.0170,  ..., -0.0310,  0.0330,  0.0160],\n",
              "        [-0.0336,  0.0017, -0.0051,  ...,  0.0150,  0.0023,  0.0269],\n",
              "        [ 0.0240,  0.0098, -0.0352,  ...,  0.0231, -0.0071, -0.0294]],\n",
              "       requires_grad=True)"
            ]
          },
          "metadata": {},
          "execution_count": 132
        }
      ]
    },
    {
      "cell_type": "code",
      "source": [
        "#SGD learning cycle\n",
        "EPOCHS = 10\n",
        "learning_rate = 0.01\n",
        "losses = []\n",
        "\n",
        "for epoch in range(EPOCHS):\n",
        "  for x_batch, y_batch in train_loader:\n",
        "    x_batch = x_batch.reshape(x_batch.shape[0], -1)   # load a batch (reshaped to line)\n",
        "\n",
        "    #log loss\n",
        "    logits = x_batch @ w\n",
        "    probabilities = torch.exp(logits) / torch.exp(logits).sum(dim=1, keepdims=True)   #softmax\n",
        "    loss = -torch.log(probabilities[range(batch_size), y_batch]).mean()                                                             #WHY IN [] ????????????\n",
        "    losses.append(loss.item())\n",
        "\n",
        "    # calc grad\n",
        "    loss.backward()\n",
        "\n",
        "    # gradient descent step\n",
        "    grad = w.grad\n",
        "    with torch.no_grad():\n",
        "      w -= learning_rate * grad\n",
        "    w.grad.zero_()\n",
        "  print(f'{epoch+1},\\t loss: {losses[-1]}')"
      ],
      "metadata": {
        "colab": {
          "base_uri": "https://localhost:8080/"
        },
        "id": "8OC_uYptTtjl",
        "outputId": "81223ec2-fc76-4244-df5f-037080124237"
      },
      "execution_count": 133,
      "outputs": [
        {
          "output_type": "stream",
          "name": "stdout",
          "text": [
            "1,\t loss: 0.19453617930412292\n",
            "2,\t loss: 0.14034771919250488\n",
            "3,\t loss: 0.12071729451417923\n",
            "4,\t loss: 0.110123410820961\n",
            "5,\t loss: 0.10326223075389862\n",
            "6,\t loss: 0.09833353012800217\n",
            "7,\t loss: 0.09455354511737823\n",
            "8,\t loss: 0.09152326732873917\n",
            "9,\t loss: 0.08901605010032654\n",
            "10,\t loss: 0.08689271658658981\n"
          ]
        }
      ]
    },
    {
      "cell_type": "code",
      "source": [
        "#loss graph\n",
        "\n",
        "import matplotlib.pyplot as plt\n",
        "plt.figure(figsize=(10, 7))\n",
        "plt.plot(losses)\n",
        "plt.title('Loss by batch iterations')\n",
        "plt.ylabel('Entropy Loss')\n",
        "plt.xlabel('batches')\n",
        "plt.show()"
      ],
      "metadata": {
        "colab": {
          "base_uri": "https://localhost:8080/",
          "height": 458
        },
        "id": "dB37QZREkhSE",
        "outputId": "51473c9c-f1bc-4e8a-8c58-e13c0ab44896"
      },
      "execution_count": 134,
      "outputs": [
        {
          "output_type": "display_data",
          "data": {
            "text/plain": [
              "<Figure size 720x504 with 1 Axes>"
            ],
            "image/png": "[encoded data removed]"
          },
          "metadata": {
            "needs_background": "light"
          }
        }
      ]
    },
    {
      "cell_type": "code",
      "source": [
        "#accuracy score\n",
        "\n",
        "batches = 0\n",
        "true_pred = 0\n",
        "\n",
        "from sklearn.metrics import accuracy_score\n",
        "for x_batch, y_batch in test_loader:\n",
        "  batches += 1\n",
        "  x_batch = x_batch.view(x_batch.shape[0], -1)\n",
        "  predictions = torch.argmax(x_batch @ w, dim = 1)\n",
        "  true_pred += (predictions == y_batch).cpu().numpy().mean()\n",
        "print(true_pred / batches)\n"
      ],
      "metadata": {
        "colab": {
          "base_uri": "https://localhost:8080/"
        },
        "id": "6OqnZ2B3mWop",
        "outputId": "533b80fd-e8ad-45d1-8f26-00d0492a8c44"
      },
      "execution_count": 135,
      "outputs": [
        {
          "output_type": "stream",
          "name": "stdout",
          "text": [
            "0.9121594551282052\n"
          ]
        }
      ]
    }
  ]
}
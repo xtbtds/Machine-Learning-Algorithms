{
  "nbformat": 4,
  "nbformat_minor": 0,
  "metadata": {
    "colab": {
      "name": "LeNet",
      "provenance": [],
      "collapsed_sections": []
    },
    "kernelspec": {
      "name": "python3",
      "display_name": "Python 3"
    },
    "language_info": {
      "name": "python"
    }
  },
  "cells": [
    {
      "cell_type": "markdown",
      "source": [
        "##LeNet architecture\n",
        "conv 3x3 + relu \\\\\n",
        "maxPolling 2x2 \\\\\n",
        "conv 3x3 + relu \\\\\n",
        "maxPolling 2x2 \\\\\n",
        "Flatten \\\\\n",
        "fully connected + relu \\\\\n",
        "fully connected + relu \\\\\n",
        "fully connected "
      ],
      "metadata": {
        "id": "wBLVIsNEd4Kk"
      }
    },
    {
      "cell_type": "code",
      "execution_count": 10,
      "metadata": {
        "id": "qlEiws41WDcX"
      },
      "outputs": [],
      "source": [
        "import numpy as np\n",
        "from matplotlib import pyplot as plt\n",
        "\n",
        "import torch\n",
        "from torch import nn\n",
        "from torch.nn import functional as F\n",
        "\n",
        "from torch.utils.data import TensorDataset, DataLoader\n",
        "from torchvision.datasets import MNIST\n",
        "import torchvision.transforms as tfs\n",
        "\n",
        "device = \"cuda\" if torch.cuda.is_available() else \"cpu\""
      ]
    },
    {
      "cell_type": "code",
      "source": [
        "data_tfs = tfs.Compose([\n",
        "    tfs.ToTensor(),\n",
        "    tfs.Normalize((0.5), (0.5))\n",
        "])\n",
        "\n",
        "\n",
        "\"\"\"\n",
        "download test and train datasets\n",
        "transform for example to avoid overfitting: we can \"mirror\" pictures to enlarge dataset, but there we only have to normalize and ToTenzor\n",
        "\"\"\"\n",
        "root = './'\n",
        "train_dataset = MNIST(root, train=True,  transform=data_tfs, download=True)  \n",
        "val_dataset  = MNIST(root, train=False, transform=data_tfs, download=True)\n",
        "\n",
        "\n",
        "\"\"\"\n",
        "- shuffle=True, because we want all classes to shuffle, otherwise net forgets about what it has learned on the previous classes and\n",
        "    the result is created only from the last class the net has met during learning\n",
        "- num_workers for parallel computations\n",
        "- one iteration of Dataloader has batch_size = 128\n",
        "\"\"\"\n",
        "train_dataloader = torch.utils.data.DataLoader(train_dataset, batch_size=128,\n",
        "                                          shuffle=True, num_workers=2)   \n",
        "valid_dataloader = torch.utils.data.DataLoader(val_dataset, batch_size=128,\n",
        "                                          shuffle=False, num_workers=2)"
      ],
      "metadata": {
        "id": "XQbdJ7u1WYTw"
      },
      "execution_count": 15,
      "outputs": []
    },
    {
      "cell_type": "code",
      "source": [
        "class LeNet(nn.Module):\n",
        "    def __init__(self):\n",
        "        super(LeNet, self).__init__()\n",
        "        # create layers\n",
        "        self.conv1 = nn.Conv2d(in_channels=1, out_channels=6, kernel_size=3)\n",
        "        self.pool1 = nn.MaxPool2d(kernel_size=2)\n",
        "        self.conv2 = nn.Conv2d(in_channels=6, out_channels=16, kernel_size=3)\n",
        "        self.pool2 = nn.MaxPool2d(kernel_size=2)\n",
        "        self.fc1 = nn.Linear(5 * 5 * 16, 120)  #5*5*16 is x.shape after two poolings is def forward (*)\n",
        "        self.fc2 = nn.Linear(120, 84)\n",
        "        self.fc3 = nn.Linear(84, 10)\n",
        "\n",
        "    def forward(self, x):\n",
        "        # forward through layers\n",
        "        x = self.pool1(F.relu(self.conv1(x)))\n",
        "        x = self.pool2(F.relu(self.conv2(x)))\n",
        "        #x.shape (*)\n",
        "        x = x.view(-1, 5 * 5 * 16)\n",
        "        x = F.relu(self.fc1(x))\n",
        "        x = F.relu(self.fc2(x))\n",
        "        x = self.fc3(x)\n",
        "        return x"
      ],
      "metadata": {
        "id": "QEF80twGWj6s"
      },
      "execution_count": 17,
      "outputs": []
    },
    {
      "cell_type": "code",
      "source": [
        "model = LeNet().to(device)\n",
        "\n",
        "criterion = nn.CrossEntropyLoss()   #loss function (because we have classification with many classes)\n",
        "optimizer = torch.optim.Adam(model.parameters())   #optimizer\n",
        "\n",
        "loaders = {\"train\": train_dataloader, \"valid\": valid_dataloader}"
      ],
      "metadata": {
        "id": "rRDuNACqWkqq"
      },
      "execution_count": 18,
      "outputs": []
    },
    {
      "cell_type": "code",
      "source": [
        "max_epochs = 5\n",
        "accuracy = {\"train\": [], \"valid\": []}\n",
        "for epoch in range(max_epochs):\n",
        "    for k, dataloader in loaders.items():\n",
        "        epoch_correct = 0\n",
        "        epoch_all = 0\n",
        "        for x_batch, y_batch in dataloader:\n",
        "            if k == \"train\":\n",
        "                optimizer.zero_grad()\n",
        "                output = model(x_batch.to(device))\n",
        "            else:\n",
        "                model.eval()   #test mode, disable gradient computation\n",
        "                output = model(x_batch.to(device))\n",
        "            preds = output.argmax(-1)   #choose the class which index is the biggest\n",
        "            all = y_batch.shape[0]\n",
        "            correct =  (preds == y_batch.to(device)).sum()\n",
        "            epoch_correct += correct.item()\n",
        "            epoch_all += all\n",
        "            if k == \"train\":    #do gradient descent step\n",
        "                loss = criterion(output, y_batch.to(device))\n",
        "                loss.backward()\n",
        "                optimizer.step()\n",
        "        if k == \"train\":\n",
        "            print(f\"Epoch: {epoch+1}\")\n",
        "        print(f\"Loader: {k}. Accuracy: {epoch_correct/epoch_all}\")\n",
        "        accuracy[k].append(epoch_correct/epoch_all)"
      ],
      "metadata": {
        "colab": {
          "base_uri": "https://localhost:8080/"
        },
        "id": "F-zQUMFkWpxy",
        "outputId": "9c987894-1acf-43a8-b778-902f3694ecf2"
      },
      "execution_count": 19,
      "outputs": [
        {
          "output_type": "stream",
          "name": "stdout",
          "text": [
            "Epoch: 1\n",
            "Loader: train. Accuracy: 0.8814833333333333\n",
            "Loader: valid. Accuracy: 0.9576\n",
            "Epoch: 2\n",
            "Loader: train. Accuracy: 0.9704333333333334\n",
            "Loader: valid. Accuracy: 0.9765\n",
            "Epoch: 3\n",
            "Loader: train. Accuracy: 0.9783666666666667\n",
            "Loader: valid. Accuracy: 0.9817\n",
            "Epoch: 4\n",
            "Loader: train. Accuracy: 0.9830833333333333\n",
            "Loader: valid. Accuracy: 0.9821\n",
            "Epoch: 5\n",
            "Loader: train. Accuracy: 0.9863333333333333\n",
            "Loader: valid. Accuracy: 0.9866\n"
          ]
        }
      ]
    },
    {
      "cell_type": "code",
      "source": [
        "lenet_accuracy = accuracy[\"valid\"]"
      ],
      "metadata": {
        "id": "ojsb5XKjWsdr"
      },
      "execution_count": 21,
      "outputs": []
    },
    {
      "cell_type": "code",
      "source": [
        "plt.figure(figsize=(16, 10))\n",
        "plt.title(\"LeNet accuracy\")\n",
        "plt.plot(range(max_epochs), lenet_accuracy, label=\"LeNet\", linewidth=2)\n",
        "plt.legend()\n",
        "plt.xlabel(\"Epoch\")\n",
        "plt.show()"
      ],
      "metadata": {
        "colab": {
          "base_uri": "https://localhost:8080/",
          "height": 621
        },
        "id": "lSxOzJ0qWs_W",
        "outputId": "13478aab-b417-4ba0-ee00-4ce4b63e985f"
      },
      "execution_count": 22,
      "outputs": [
        {
          "output_type": "display_data",
          "data": {
            "text/plain": [
              "<Figure size 1152x720 with 1 Axes>"
            ],
            "image/png": "[encoded data removed]"
          },
          "metadata": {
            "needs_background": "light"
          }
        }
      ]
    }
  ]
}